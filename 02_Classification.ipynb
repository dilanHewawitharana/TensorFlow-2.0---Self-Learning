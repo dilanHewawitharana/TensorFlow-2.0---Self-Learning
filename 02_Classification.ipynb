{
  "nbformat": 4,
  "nbformat_minor": 0,
  "metadata": {
    "colab": {
      "name": "02_Classification.ipynb",
      "provenance": [],
      "authorship_tag": "ABX9TyMqt1/Ya+evIdy2f4XC/qDa",
      "include_colab_link": true
    },
    "kernelspec": {
      "name": "python3",
      "display_name": "Python 3"
    }
  },
  "cells": [
    {
      "cell_type": "markdown",
      "metadata": {
        "id": "view-in-github",
        "colab_type": "text"
      },
      "source": [
        "<a href=\"https://colab.research.google.com/github/dilanHewawitharana/TensorFlow-2.0-Self-Learning/blob/main/02_Classification.ipynb\" target=\"_parent\"><img src=\"https://colab.research.google.com/assets/colab-badge.svg\" alt=\"Open In Colab\"/></a>"
      ]
    },
    {
      "cell_type": "code",
      "metadata": {
        "colab": {
          "base_uri": "https://localhost:8080/"
        },
        "id": "fZpx6a23yhL-",
        "outputId": "64c437e6-1458-4959-bedf-5cd16a552a33"
      },
      "source": [
        "%tensorflow_version 2.x  # this line is not required unless you are in a notebook"
      ],
      "execution_count": 4,
      "outputs": [
        {
          "output_type": "stream",
          "text": [
            "`%tensorflow_version` only switches the major version: 1.x or 2.x.\n",
            "You set: `2.x  # this line is not required unless you are in a notebook`. This will be interpreted as: `2.x`.\n",
            "\n",
            "\n",
            "TensorFlow 2.x selected.\n"
          ],
          "name": "stdout"
        }
      ]
    },
    {
      "cell_type": "code",
      "metadata": {
        "id": "MpYNyDX0zZ8z"
      },
      "source": [
        "from __future__ import absolute_import, division, print_function, unicode_literals\n",
        "\n",
        "\n",
        "import tensorflow as tf\n",
        "\n",
        "import pandas as pd"
      ],
      "execution_count": 5,
      "outputs": []
    },
    {
      "cell_type": "code",
      "metadata": {
        "id": "bCz10EW9ztWq"
      },
      "source": [
        "CSV_COLUMN_NAMES = ['SepalLength', 'SepalWidth', 'PetalLength', 'PetalWidth', 'Species']\n",
        "SPECIES = ['Setosa', 'Versicolor', 'Virginica']\n",
        "# Lets define some constants to help us later on"
      ],
      "execution_count": 6,
      "outputs": []
    },
    {
      "cell_type": "code",
      "metadata": {
        "id": "wykot1oX0A_q",
        "outputId": "6a2de9a0-ea5e-47fc-8f52-2f5b1b123a6d",
        "colab": {
          "base_uri": "https://localhost:8080/"
        }
      },
      "source": [
        "train_path = tf.keras.utils.get_file(\n",
        "    \"iris_training.csv\", \"https://storage.googleapis.com/download.tensorflow.org/data/iris_training.csv\")\n",
        "test_path = tf.keras.utils.get_file(\n",
        "    \"iris_test.csv\", \"https://storage.googleapis.com/download.tensorflow.org/data/iris_test.csv\")\n",
        "\n",
        "train = pd.read_csv(train_path, names=CSV_COLUMN_NAMES, header=0)\n",
        "test = pd.read_csv(test_path, names=CSV_COLUMN_NAMES, header=0)\n",
        "# Here we use keras (a module inside of TensorFlow) to grab our datasets and read them into a pandas dataframe"
      ],
      "execution_count": 7,
      "outputs": [
        {
          "output_type": "stream",
          "text": [
            "Downloading data from https://storage.googleapis.com/download.tensorflow.org/data/iris_training.csv\n",
            "\r8192/2194 [================================================================================================================] - 0s 0us/step\n",
            "Downloading data from https://storage.googleapis.com/download.tensorflow.org/data/iris_test.csv\n",
            "8192/573 [============================================================================================================================================================================================================================================================================================================================================================================================================================================] - 0s 0us/step\n"
          ],
          "name": "stdout"
        }
      ]
    },
    {
      "cell_type": "code",
      "metadata": {
        "colab": {
          "base_uri": "https://localhost:8080/",
          "height": 195
        },
        "id": "8ujeuFGI0IoC",
        "outputId": "5bbe795c-5fbc-4bc3-9cd0-801a76994457"
      },
      "source": [
        "train.head()"
      ],
      "execution_count": 8,
      "outputs": [
        {
          "output_type": "execute_result",
          "data": {
            "text/html": [
              "<div>\n",
              "<style scoped>\n",
              "    .dataframe tbody tr th:only-of-type {\n",
              "        vertical-align: middle;\n",
              "    }\n",
              "\n",
              "    .dataframe tbody tr th {\n",
              "        vertical-align: top;\n",
              "    }\n",
              "\n",
              "    .dataframe thead th {\n",
              "        text-align: right;\n",
              "    }\n",
              "</style>\n",
              "<table border=\"1\" class=\"dataframe\">\n",
              "  <thead>\n",
              "    <tr style=\"text-align: right;\">\n",
              "      <th></th>\n",
              "      <th>SepalLength</th>\n",
              "      <th>SepalWidth</th>\n",
              "      <th>PetalLength</th>\n",
              "      <th>PetalWidth</th>\n",
              "      <th>Species</th>\n",
              "    </tr>\n",
              "  </thead>\n",
              "  <tbody>\n",
              "    <tr>\n",
              "      <th>0</th>\n",
              "      <td>6.4</td>\n",
              "      <td>2.8</td>\n",
              "      <td>5.6</td>\n",
              "      <td>2.2</td>\n",
              "      <td>2</td>\n",
              "    </tr>\n",
              "    <tr>\n",
              "      <th>1</th>\n",
              "      <td>5.0</td>\n",
              "      <td>2.3</td>\n",
              "      <td>3.3</td>\n",
              "      <td>1.0</td>\n",
              "      <td>1</td>\n",
              "    </tr>\n",
              "    <tr>\n",
              "      <th>2</th>\n",
              "      <td>4.9</td>\n",
              "      <td>2.5</td>\n",
              "      <td>4.5</td>\n",
              "      <td>1.7</td>\n",
              "      <td>2</td>\n",
              "    </tr>\n",
              "    <tr>\n",
              "      <th>3</th>\n",
              "      <td>4.9</td>\n",
              "      <td>3.1</td>\n",
              "      <td>1.5</td>\n",
              "      <td>0.1</td>\n",
              "      <td>0</td>\n",
              "    </tr>\n",
              "    <tr>\n",
              "      <th>4</th>\n",
              "      <td>5.7</td>\n",
              "      <td>3.8</td>\n",
              "      <td>1.7</td>\n",
              "      <td>0.3</td>\n",
              "      <td>0</td>\n",
              "    </tr>\n",
              "  </tbody>\n",
              "</table>\n",
              "</div>"
            ],
            "text/plain": [
              "   SepalLength  SepalWidth  PetalLength  PetalWidth  Species\n",
              "0          6.4         2.8          5.6         2.2        2\n",
              "1          5.0         2.3          3.3         1.0        1\n",
              "2          4.9         2.5          4.5         1.7        2\n",
              "3          4.9         3.1          1.5         0.1        0\n",
              "4          5.7         3.8          1.7         0.3        0"
            ]
          },
          "metadata": {
            "tags": []
          },
          "execution_count": 8
        }
      ]
    },
    {
      "cell_type": "code",
      "metadata": {
        "colab": {
          "base_uri": "https://localhost:8080/",
          "height": 195
        },
        "id": "y-GmvE3z0jB4",
        "outputId": "99f48384-3c21-44eb-8ef0-e7655fd5e472"
      },
      "source": [
        "train_y = train.pop('Species')\n",
        "test_y = test.pop('Species')\n",
        "train.head() # the species column is now gone"
      ],
      "execution_count": 9,
      "outputs": [
        {
          "output_type": "execute_result",
          "data": {
            "text/html": [
              "<div>\n",
              "<style scoped>\n",
              "    .dataframe tbody tr th:only-of-type {\n",
              "        vertical-align: middle;\n",
              "    }\n",
              "\n",
              "    .dataframe tbody tr th {\n",
              "        vertical-align: top;\n",
              "    }\n",
              "\n",
              "    .dataframe thead th {\n",
              "        text-align: right;\n",
              "    }\n",
              "</style>\n",
              "<table border=\"1\" class=\"dataframe\">\n",
              "  <thead>\n",
              "    <tr style=\"text-align: right;\">\n",
              "      <th></th>\n",
              "      <th>SepalLength</th>\n",
              "      <th>SepalWidth</th>\n",
              "      <th>PetalLength</th>\n",
              "      <th>PetalWidth</th>\n",
              "    </tr>\n",
              "  </thead>\n",
              "  <tbody>\n",
              "    <tr>\n",
              "      <th>0</th>\n",
              "      <td>6.4</td>\n",
              "      <td>2.8</td>\n",
              "      <td>5.6</td>\n",
              "      <td>2.2</td>\n",
              "    </tr>\n",
              "    <tr>\n",
              "      <th>1</th>\n",
              "      <td>5.0</td>\n",
              "      <td>2.3</td>\n",
              "      <td>3.3</td>\n",
              "      <td>1.0</td>\n",
              "    </tr>\n",
              "    <tr>\n",
              "      <th>2</th>\n",
              "      <td>4.9</td>\n",
              "      <td>2.5</td>\n",
              "      <td>4.5</td>\n",
              "      <td>1.7</td>\n",
              "    </tr>\n",
              "    <tr>\n",
              "      <th>3</th>\n",
              "      <td>4.9</td>\n",
              "      <td>3.1</td>\n",
              "      <td>1.5</td>\n",
              "      <td>0.1</td>\n",
              "    </tr>\n",
              "    <tr>\n",
              "      <th>4</th>\n",
              "      <td>5.7</td>\n",
              "      <td>3.8</td>\n",
              "      <td>1.7</td>\n",
              "      <td>0.3</td>\n",
              "    </tr>\n",
              "  </tbody>\n",
              "</table>\n",
              "</div>"
            ],
            "text/plain": [
              "   SepalLength  SepalWidth  PetalLength  PetalWidth\n",
              "0          6.4         2.8          5.6         2.2\n",
              "1          5.0         2.3          3.3         1.0\n",
              "2          4.9         2.5          4.5         1.7\n",
              "3          4.9         3.1          1.5         0.1\n",
              "4          5.7         3.8          1.7         0.3"
            ]
          },
          "metadata": {
            "tags": []
          },
          "execution_count": 9
        }
      ]
    },
    {
      "cell_type": "code",
      "metadata": {
        "colab": {
          "base_uri": "https://localhost:8080/"
        },
        "id": "bC6oT-Ja00L0",
        "outputId": "d28344bd-e7c4-437e-acd9-7a1078de106f"
      },
      "source": [
        "train.shape  # we have 120 entires with 4 features"
      ],
      "execution_count": 10,
      "outputs": [
        {
          "output_type": "execute_result",
          "data": {
            "text/plain": [
              "(120, 4)"
            ]
          },
          "metadata": {
            "tags": []
          },
          "execution_count": 10
        }
      ]
    },
    {
      "cell_type": "code",
      "metadata": {
        "id": "voIxByURKrRh"
      },
      "source": [
        "def input_fn(features, labels, training=True, batch_size=256):\n",
        "    # Convert the inputs to a Dataset.\n",
        "    dataset = tf.data.Dataset.from_tensor_slices((dict(features), labels))\n",
        "\n",
        "    # Shuffle and repeat if you are in training mode.\n",
        "    if training:\n",
        "        dataset = dataset.shuffle(1000).repeat()\n",
        "    \n",
        "    return dataset.batch(batch_size)"
      ],
      "execution_count": 2,
      "outputs": []
    },
    {
      "cell_type": "code",
      "metadata": {
        "id": "R-7levfHLehz",
        "outputId": "463c51a7-6b02-48ce-902a-e5dff1871f0c",
        "colab": {
          "base_uri": "https://localhost:8080/"
        }
      },
      "source": [
        "# Feature columns describe how to use the input.\n",
        "my_feature_columns = []\n",
        "for key in train.keys():\n",
        "    my_feature_columns.append(tf.feature_column.numeric_column(key=key))\n",
        "print(my_feature_columns)"
      ],
      "execution_count": 12,
      "outputs": [
        {
          "output_type": "stream",
          "text": [
            "[NumericColumn(key='SepalLength', shape=(1,), default_value=None, dtype=tf.float32, normalizer_fn=None), NumericColumn(key='SepalWidth', shape=(1,), default_value=None, dtype=tf.float32, normalizer_fn=None), NumericColumn(key='PetalLength', shape=(1,), default_value=None, dtype=tf.float32, normalizer_fn=None), NumericColumn(key='PetalWidth', shape=(1,), default_value=None, dtype=tf.float32, normalizer_fn=None)]\n"
          ],
          "name": "stdout"
        }
      ]
    },
    {
      "cell_type": "code",
      "metadata": {
        "id": "2S7HambeToZt",
        "outputId": "08774dde-f163-47ca-a00f-c8204c5c0f69",
        "colab": {
          "base_uri": "https://localhost:8080/"
        }
      },
      "source": [
        "# Build a DNN with 2 hidden layers with 30 and 10 hidden nodes each.\n",
        "classifier = tf.estimator.DNNClassifier(\n",
        "    feature_columns=my_feature_columns,\n",
        "    # Two hidden layers of 30 and 10 nodes respectively.\n",
        "    hidden_units=[30, 10],\n",
        "    # The model must choose between 3 classes.\n",
        "    n_classes=3)"
      ],
      "execution_count": 13,
      "outputs": [
        {
          "output_type": "stream",
          "text": [
            "INFO:tensorflow:Using default config.\n",
            "WARNING:tensorflow:Using temporary folder as model directory: /tmp/tmpcxd9b6ob\n",
            "INFO:tensorflow:Using config: {'_model_dir': '/tmp/tmpcxd9b6ob', '_tf_random_seed': None, '_save_summary_steps': 100, '_save_checkpoints_steps': None, '_save_checkpoints_secs': 600, '_session_config': allow_soft_placement: true\n",
            "graph_options {\n",
            "  rewrite_options {\n",
            "    meta_optimizer_iterations: ONE\n",
            "  }\n",
            "}\n",
            ", '_keep_checkpoint_max': 5, '_keep_checkpoint_every_n_hours': 10000, '_log_step_count_steps': 100, '_train_distribute': None, '_device_fn': None, '_protocol': None, '_eval_distribute': None, '_experimental_distribute': None, '_experimental_max_worker_delay_secs': None, '_session_creation_timeout_secs': 7200, '_checkpoint_save_graph_def': True, '_service': None, '_cluster_spec': ClusterSpec({}), '_task_type': 'worker', '_task_id': 0, '_global_id_in_cluster': 0, '_master': '', '_evaluation_master': '', '_is_chief': True, '_num_ps_replicas': 0, '_num_worker_replicas': 1}\n"
          ],
          "name": "stdout"
        }
      ]
    },
    {
      "cell_type": "code",
      "metadata": {
        "id": "H2O7A1xATxW3",
        "outputId": "70fe3d72-8478-4fcf-ed32-c2213cd29bcf",
        "colab": {
          "base_uri": "https://localhost:8080/"
        }
      },
      "source": [
        "classifier.train(\n",
        "    input_fn=lambda: input_fn(train, train_y, training=True),\n",
        "    steps=5000)\n",
        "# We include a lambda to avoid creating an inner function previously"
      ],
      "execution_count": 14,
      "outputs": [
        {
          "output_type": "stream",
          "text": [
            "WARNING:tensorflow:From /usr/local/lib/python3.6/dist-packages/tensorflow/python/training/training_util.py:236: Variable.initialized_value (from tensorflow.python.ops.variables) is deprecated and will be removed in a future version.\n",
            "Instructions for updating:\n",
            "Use Variable.read_value. Variables in 2.X are initialized automatically both in eager and graph (inside tf.defun) contexts.\n",
            "INFO:tensorflow:Calling model_fn.\n",
            "WARNING:tensorflow:From /usr/local/lib/python3.6/dist-packages/tensorflow/python/keras/optimizer_v2/adagrad.py:83: calling Constant.__init__ (from tensorflow.python.ops.init_ops) with dtype is deprecated and will be removed in a future version.\n",
            "Instructions for updating:\n",
            "Call initializer instance with the dtype argument instead of passing it to the constructor\n",
            "INFO:tensorflow:Done calling model_fn.\n",
            "INFO:tensorflow:Create CheckpointSaverHook.\n",
            "INFO:tensorflow:Graph was finalized.\n",
            "INFO:tensorflow:Running local_init_op.\n",
            "INFO:tensorflow:Done running local_init_op.\n",
            "INFO:tensorflow:Calling checkpoint listeners before saving checkpoint 0...\n",
            "INFO:tensorflow:Saving checkpoints for 0 into /tmp/tmpcxd9b6ob/model.ckpt.\n",
            "INFO:tensorflow:Calling checkpoint listeners after saving checkpoint 0...\n",
            "INFO:tensorflow:loss = 1.50105, step = 0\n",
            "INFO:tensorflow:global_step/sec: 425.935\n",
            "INFO:tensorflow:loss = 1.0108191, step = 100 (0.237 sec)\n",
            "INFO:tensorflow:global_step/sec: 540.168\n",
            "INFO:tensorflow:loss = 0.92674774, step = 200 (0.187 sec)\n",
            "INFO:tensorflow:global_step/sec: 579.311\n",
            "INFO:tensorflow:loss = 0.88148355, step = 300 (0.173 sec)\n",
            "INFO:tensorflow:global_step/sec: 595.5\n",
            "INFO:tensorflow:loss = 0.83709323, step = 400 (0.166 sec)\n",
            "INFO:tensorflow:global_step/sec: 584.39\n",
            "INFO:tensorflow:loss = 0.80310625, step = 500 (0.171 sec)\n",
            "INFO:tensorflow:global_step/sec: 606.014\n",
            "INFO:tensorflow:loss = 0.7766568, step = 600 (0.165 sec)\n",
            "INFO:tensorflow:global_step/sec: 576.962\n",
            "INFO:tensorflow:loss = 0.7573559, step = 700 (0.174 sec)\n",
            "INFO:tensorflow:global_step/sec: 608.581\n",
            "INFO:tensorflow:loss = 0.7412628, step = 800 (0.162 sec)\n",
            "INFO:tensorflow:global_step/sec: 610.335\n",
            "INFO:tensorflow:loss = 0.7146293, step = 900 (0.164 sec)\n",
            "INFO:tensorflow:global_step/sec: 585.775\n",
            "INFO:tensorflow:loss = 0.70057297, step = 1000 (0.170 sec)\n",
            "INFO:tensorflow:global_step/sec: 592.701\n",
            "INFO:tensorflow:loss = 0.67137694, step = 1100 (0.170 sec)\n",
            "INFO:tensorflow:global_step/sec: 622.331\n",
            "INFO:tensorflow:loss = 0.66568244, step = 1200 (0.160 sec)\n",
            "INFO:tensorflow:global_step/sec: 590.259\n",
            "INFO:tensorflow:loss = 0.6384999, step = 1300 (0.170 sec)\n",
            "INFO:tensorflow:global_step/sec: 611.111\n",
            "INFO:tensorflow:loss = 0.6476757, step = 1400 (0.165 sec)\n",
            "INFO:tensorflow:global_step/sec: 618.363\n",
            "INFO:tensorflow:loss = 0.6212288, step = 1500 (0.162 sec)\n",
            "INFO:tensorflow:global_step/sec: 621.136\n",
            "INFO:tensorflow:loss = 0.62479705, step = 1600 (0.159 sec)\n",
            "INFO:tensorflow:global_step/sec: 626.453\n",
            "INFO:tensorflow:loss = 0.59703815, step = 1700 (0.162 sec)\n",
            "INFO:tensorflow:global_step/sec: 616.908\n",
            "INFO:tensorflow:loss = 0.5947463, step = 1800 (0.160 sec)\n",
            "INFO:tensorflow:global_step/sec: 588.609\n",
            "INFO:tensorflow:loss = 0.58419055, step = 1900 (0.170 sec)\n",
            "INFO:tensorflow:global_step/sec: 619.114\n",
            "INFO:tensorflow:loss = 0.56221694, step = 2000 (0.162 sec)\n",
            "INFO:tensorflow:global_step/sec: 615.458\n",
            "INFO:tensorflow:loss = 0.5610881, step = 2100 (0.163 sec)\n",
            "INFO:tensorflow:global_step/sec: 625.967\n",
            "INFO:tensorflow:loss = 0.5502987, step = 2200 (0.161 sec)\n",
            "WARNING:tensorflow:It seems that global step (tf.train.get_global_step) has not been increased. Current value (could be stable): 2241 vs previous value: 2241. You could increase the global step by passing tf.train.get_global_step() to Optimizer.apply_gradients or Optimizer.minimize.\n",
            "INFO:tensorflow:global_step/sec: 527.823\n",
            "INFO:tensorflow:loss = 0.5476823, step = 2300 (0.188 sec)\n",
            "INFO:tensorflow:global_step/sec: 568.755\n",
            "INFO:tensorflow:loss = 0.5395669, step = 2400 (0.176 sec)\n",
            "INFO:tensorflow:global_step/sec: 588.719\n",
            "INFO:tensorflow:loss = 0.54585683, step = 2500 (0.172 sec)\n",
            "INFO:tensorflow:global_step/sec: 606.552\n",
            "INFO:tensorflow:loss = 0.5202273, step = 2600 (0.165 sec)\n",
            "INFO:tensorflow:global_step/sec: 607.176\n",
            "INFO:tensorflow:loss = 0.515537, step = 2700 (0.165 sec)\n",
            "INFO:tensorflow:global_step/sec: 621.542\n",
            "INFO:tensorflow:loss = 0.50636995, step = 2800 (0.161 sec)\n",
            "INFO:tensorflow:global_step/sec: 601.228\n",
            "INFO:tensorflow:loss = 0.49551785, step = 2900 (0.166 sec)\n",
            "INFO:tensorflow:global_step/sec: 559.138\n",
            "INFO:tensorflow:loss = 0.49019194, step = 3000 (0.177 sec)\n",
            "INFO:tensorflow:global_step/sec: 552.322\n",
            "INFO:tensorflow:loss = 0.5059432, step = 3100 (0.183 sec)\n",
            "INFO:tensorflow:global_step/sec: 595.189\n",
            "INFO:tensorflow:loss = 0.47963178, step = 3200 (0.169 sec)\n",
            "INFO:tensorflow:global_step/sec: 601.834\n",
            "INFO:tensorflow:loss = 0.48025447, step = 3300 (0.165 sec)\n",
            "INFO:tensorflow:global_step/sec: 619.937\n",
            "INFO:tensorflow:loss = 0.46368924, step = 3400 (0.160 sec)\n",
            "INFO:tensorflow:global_step/sec: 618.968\n",
            "INFO:tensorflow:loss = 0.46076092, step = 3500 (0.161 sec)\n",
            "INFO:tensorflow:global_step/sec: 604.27\n",
            "INFO:tensorflow:loss = 0.45724502, step = 3600 (0.168 sec)\n",
            "INFO:tensorflow:global_step/sec: 605.109\n",
            "INFO:tensorflow:loss = 0.4426449, step = 3700 (0.166 sec)\n",
            "INFO:tensorflow:global_step/sec: 593.569\n",
            "INFO:tensorflow:loss = 0.45890868, step = 3800 (0.165 sec)\n",
            "INFO:tensorflow:global_step/sec: 589.217\n",
            "INFO:tensorflow:loss = 0.44291148, step = 3900 (0.170 sec)\n",
            "INFO:tensorflow:global_step/sec: 621.081\n",
            "INFO:tensorflow:loss = 0.44192487, step = 4000 (0.165 sec)\n",
            "INFO:tensorflow:global_step/sec: 588.247\n",
            "INFO:tensorflow:loss = 0.44847992, step = 4100 (0.167 sec)\n",
            "INFO:tensorflow:global_step/sec: 612.955\n",
            "INFO:tensorflow:loss = 0.4255321, step = 4200 (0.163 sec)\n",
            "INFO:tensorflow:global_step/sec: 572.511\n",
            "INFO:tensorflow:loss = 0.431427, step = 4300 (0.176 sec)\n",
            "INFO:tensorflow:global_step/sec: 543.626\n",
            "INFO:tensorflow:loss = 0.43459594, step = 4400 (0.183 sec)\n",
            "INFO:tensorflow:global_step/sec: 620.922\n",
            "INFO:tensorflow:loss = 0.4142341, step = 4500 (0.164 sec)\n",
            "INFO:tensorflow:global_step/sec: 626.711\n",
            "INFO:tensorflow:loss = 0.39961952, step = 4600 (0.156 sec)\n",
            "INFO:tensorflow:global_step/sec: 624.034\n",
            "INFO:tensorflow:loss = 0.4024821, step = 4700 (0.162 sec)\n",
            "INFO:tensorflow:global_step/sec: 592.39\n",
            "INFO:tensorflow:loss = 0.39811218, step = 4800 (0.169 sec)\n",
            "INFO:tensorflow:global_step/sec: 604.945\n",
            "INFO:tensorflow:loss = 0.40403253, step = 4900 (0.163 sec)\n",
            "INFO:tensorflow:Calling checkpoint listeners before saving checkpoint 5000...\n",
            "INFO:tensorflow:Saving checkpoints for 5000 into /tmp/tmpcxd9b6ob/model.ckpt.\n",
            "INFO:tensorflow:Calling checkpoint listeners after saving checkpoint 5000...\n",
            "INFO:tensorflow:Loss for final step: 0.40543675.\n"
          ],
          "name": "stdout"
        },
        {
          "output_type": "execute_result",
          "data": {
            "text/plain": [
              "<tensorflow_estimator.python.estimator.canned.dnn.DNNClassifierV2 at 0x7f0ad1c3e208>"
            ]
          },
          "metadata": {
            "tags": []
          },
          "execution_count": 14
        }
      ]
    },
    {
      "cell_type": "code",
      "metadata": {
        "id": "r4l20BkET-iU",
        "outputId": "a794a5a5-c57f-45c9-f667-633c2c399838",
        "colab": {
          "base_uri": "https://localhost:8080/"
        }
      },
      "source": [
        "eval_result = classifier.evaluate(\n",
        "    input_fn=lambda: input_fn(test, test_y, training=False))\n",
        "\n",
        "print('\\nTest set accuracy: {accuracy:0.3f}\\n'.format(**eval_result))"
      ],
      "execution_count": 15,
      "outputs": [
        {
          "output_type": "stream",
          "text": [
            "INFO:tensorflow:Calling model_fn.\n",
            "INFO:tensorflow:Done calling model_fn.\n",
            "INFO:tensorflow:Starting evaluation at 2020-12-27T13:07:57Z\n",
            "INFO:tensorflow:Graph was finalized.\n",
            "INFO:tensorflow:Restoring parameters from /tmp/tmpcxd9b6ob/model.ckpt-5000\n",
            "INFO:tensorflow:Running local_init_op.\n",
            "INFO:tensorflow:Done running local_init_op.\n",
            "INFO:tensorflow:Inference Time : 0.34118s\n",
            "INFO:tensorflow:Finished evaluation at 2020-12-27-13:07:57\n",
            "INFO:tensorflow:Saving dict for global step 5000: accuracy = 0.93333334, average_loss = 0.45361388, global_step = 5000, loss = 0.45361388\n",
            "INFO:tensorflow:Saving 'checkpoint_path' summary for global step 5000: /tmp/tmpcxd9b6ob/model.ckpt-5000\n",
            "\n",
            "Test set accuracy: 0.933\n",
            "\n"
          ],
          "name": "stdout"
        }
      ]
    },
    {
      "cell_type": "code",
      "metadata": {
        "id": "nWMitG8mVi8-",
        "outputId": "24ec94fd-ba92-43c9-a758-d4b55adff66f",
        "colab": {
          "base_uri": "https://localhost:8080/"
        }
      },
      "source": [
        "def input_fn(features, batch_size=256):\n",
        "    # Convert the inputs to a Dataset without labels.\n",
        "    return tf.data.Dataset.from_tensor_slices(dict(features)).batch(batch_size)\n",
        "\n",
        "features = ['SepalLength', 'SepalWidth', 'PetalLength', 'PetalWidth']\n",
        "predict = {}\n",
        "\n",
        "print(\"Please type numeric values as prompted.\")\n",
        "for feature in features:\n",
        "  valid = True\n",
        "  while valid: \n",
        "    val = input(feature + \": \")\n",
        "    if not val.isdigit(): valid = False\n",
        "\n",
        "  predict[feature] = [float(val)]\n",
        "\n",
        "predictions = classifier.predict(input_fn=lambda: input_fn(predict))\n",
        "for pred_dict in predictions:\n",
        "    class_id = pred_dict['class_ids'][0]\n",
        "    probability = pred_dict['probabilities'][class_id]\n",
        "\n",
        "    print('Prediction is \"{}\" ({:.1f}%)'.format(\n",
        "        SPECIES[class_id], 100 * probability))"
      ],
      "execution_count": 16,
      "outputs": [
        {
          "output_type": "stream",
          "text": [
            "Please type numeric values as prompted.\n",
            "SepalLength: 12\n",
            "SepalLength: 12.\n",
            "SepalWidth: 14.\n",
            "PetalLength: 45.\n",
            "PetalWidth: 45\n",
            "PetalWidth: 45.\n",
            "INFO:tensorflow:Calling model_fn.\n",
            "INFO:tensorflow:Done calling model_fn.\n",
            "INFO:tensorflow:Graph was finalized.\n",
            "INFO:tensorflow:Restoring parameters from /tmp/tmpcxd9b6ob/model.ckpt-5000\n",
            "INFO:tensorflow:Running local_init_op.\n",
            "INFO:tensorflow:Done running local_init_op.\n",
            "Prediction is \"Versicolor\" (100.0%)\n"
          ],
          "name": "stdout"
        }
      ]
    }
  ]
}