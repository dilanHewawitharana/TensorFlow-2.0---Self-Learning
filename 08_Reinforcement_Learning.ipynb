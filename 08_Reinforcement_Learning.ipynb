{
  "nbformat": 4,
  "nbformat_minor": 0,
  "metadata": {
    "colab": {
      "name": "08_Reinforcement Learning.ipynb",
      "provenance": [],
      "authorship_tag": "ABX9TyM4hlWdE8fWPnkIWB1ZXPNs",
      "include_colab_link": true
    },
    "kernelspec": {
      "name": "python3",
      "display_name": "Python 3"
    }
  },
  "cells": [
    {
      "cell_type": "markdown",
      "metadata": {
        "id": "view-in-github",
        "colab_type": "text"
      },
      "source": [
        "<a href=\"https://colab.research.google.com/github/dilanHewawitharana/TensorFlow-2.0-Self-Learning/blob/main/08_Reinforcement_Learning.ipynb\" target=\"_parent\"><img src=\"https://colab.research.google.com/assets/colab-badge.svg\" alt=\"Open In Colab\"/></a>"
      ]
    },
    {
      "cell_type": "code",
      "metadata": {
        "id": "Qq3VWvfM5SV3"
      },
      "source": [
        "import gym   # all you have to do to import and use open ai gym!"
      ],
      "execution_count": 1,
      "outputs": []
    },
    {
      "cell_type": "code",
      "metadata": {
        "id": "6tFO55QK5lCW"
      },
      "source": [
        "env = gym.make('FrozenLake-v0')  # we are going to use the FrozenLake enviornment"
      ],
      "execution_count": 2,
      "outputs": []
    },
    {
      "cell_type": "code",
      "metadata": {
        "colab": {
          "base_uri": "https://localhost:8080/"
        },
        "id": "FWTu5RKa5tCW",
        "outputId": "0511771f-229d-4d12-a6e2-3fdf7de4d506"
      },
      "source": [
        "print(env.observation_space.n)   # get number of states\r\n",
        "print(env.action_space.n)   # get number of actions"
      ],
      "execution_count": 3,
      "outputs": [
        {
          "output_type": "stream",
          "text": [
            "16\n",
            "4\n"
          ],
          "name": "stdout"
        }
      ]
    },
    {
      "cell_type": "code",
      "metadata": {
        "colab": {
          "base_uri": "https://localhost:8080/"
        },
        "id": "IU9foApO5zYe",
        "outputId": "494fd1ce-21ea-4c51-b97c-a212a03b6ca0"
      },
      "source": [
        "env.reset()  # reset enviornment to default state"
      ],
      "execution_count": 4,
      "outputs": [
        {
          "output_type": "execute_result",
          "data": {
            "text/plain": [
              "0"
            ]
          },
          "metadata": {
            "tags": []
          },
          "execution_count": 4
        }
      ]
    },
    {
      "cell_type": "code",
      "metadata": {
        "id": "T_Z68W1R54Im"
      },
      "source": [
        "action = env.action_space.sample()  # get a random action "
      ],
      "execution_count": 12,
      "outputs": []
    },
    {
      "cell_type": "code",
      "metadata": {
        "id": "TB-hTHTA6MR-"
      },
      "source": [
        "new_state, reward, done, info = env.step(action)  # take action, notice it returns information about the action"
      ],
      "execution_count": 13,
      "outputs": []
    },
    {
      "cell_type": "code",
      "metadata": {
        "colab": {
          "base_uri": "https://localhost:8080/"
        },
        "id": "HYmYm5F96NgF",
        "outputId": "b5e056d1-8a02-40ad-b77a-4fd37419fdef"
      },
      "source": [
        "print(new_state)\r\n",
        "print(reward)\r\n",
        "print(done)\r\n",
        "print(info)"
      ],
      "execution_count": 14,
      "outputs": [
        {
          "output_type": "stream",
          "text": [
            "0\n",
            "0.0\n",
            "False\n",
            "{'prob': 0.3333333333333333}\n"
          ],
          "name": "stdout"
        }
      ]
    },
    {
      "cell_type": "code",
      "metadata": {
        "colab": {
          "base_uri": "https://localhost:8080/"
        },
        "id": "dWbQ3-mq6icG",
        "outputId": "4e1955f8-915a-4587-d4a9-6dad18cf5d56"
      },
      "source": [
        "env.render()   # render the GUI for the enviornment "
      ],
      "execution_count": 15,
      "outputs": [
        {
          "output_type": "stream",
          "text": [
            "  (Left)\n",
            "\u001b[41mS\u001b[0mFFF\n",
            "FHFH\n",
            "FFFH\n",
            "HFFG\n"
          ],
          "name": "stdout"
        }
      ]
    },
    {
      "cell_type": "code",
      "metadata": {
        "id": "5-mG3VQU7kX4"
      },
      "source": [
        "import gym\r\n",
        "import numpy as np\r\n",
        "import time\r\n",
        "\r\n",
        "env = gym.make('FrozenLake-v0')\r\n",
        "STATES = env.observation_space.n\r\n",
        "ACTIONS = env.action_space.n"
      ],
      "execution_count": 16,
      "outputs": []
    },
    {
      "cell_type": "code",
      "metadata": {
        "colab": {
          "base_uri": "https://localhost:8080/"
        },
        "id": "hvxsb0pe7maG",
        "outputId": "e76738e4-abdc-49ff-f06a-e813ffdc1086"
      },
      "source": [
        "Q = np.zeros((STATES, ACTIONS))  # create a matrix with all 0 values \r\n",
        "Q"
      ],
      "execution_count": 17,
      "outputs": [
        {
          "output_type": "execute_result",
          "data": {
            "text/plain": [
              "array([[0., 0., 0., 0.],\n",
              "       [0., 0., 0., 0.],\n",
              "       [0., 0., 0., 0.],\n",
              "       [0., 0., 0., 0.],\n",
              "       [0., 0., 0., 0.],\n",
              "       [0., 0., 0., 0.],\n",
              "       [0., 0., 0., 0.],\n",
              "       [0., 0., 0., 0.],\n",
              "       [0., 0., 0., 0.],\n",
              "       [0., 0., 0., 0.],\n",
              "       [0., 0., 0., 0.],\n",
              "       [0., 0., 0., 0.],\n",
              "       [0., 0., 0., 0.],\n",
              "       [0., 0., 0., 0.],\n",
              "       [0., 0., 0., 0.],\n",
              "       [0., 0., 0., 0.]])"
            ]
          },
          "metadata": {
            "tags": []
          },
          "execution_count": 17
        }
      ]
    },
    {
      "cell_type": "code",
      "metadata": {
        "id": "4fvpOkMU7waN"
      },
      "source": [
        "EPISODES = 2000 # how many times to run the enviornment from the beginning\r\n",
        "MAX_STEPS = 100  # max number of steps allowed for each run of enviornment\r\n",
        "\r\n",
        "LEARNING_RATE = 0.81  # learning rate\r\n",
        "GAMMA = 0.96"
      ],
      "execution_count": 24,
      "outputs": []
    },
    {
      "cell_type": "code",
      "metadata": {
        "id": "T92FAoQr8IyW"
      },
      "source": [
        "epsilon = 0.9  # start with a 90% chance of picking a random action\r\n",
        "\r\n",
        "# code to pick action\r\n",
        "if np.random.uniform(0, 1) < epsilon:  # we will check if a randomly selected value is less than epsilon.\r\n",
        "    action = env.action_space.sample()  # take random action\r\n",
        "else:\r\n",
        "    action = np.argmax(Q[state, :])  # use Q table to pick best action based on current values"
      ],
      "execution_count": 26,
      "outputs": []
    },
    {
      "cell_type": "code",
      "metadata": {
        "id": "WnipYz2Y8NLd"
      },
      "source": [
        "import gym\r\n",
        "import numpy as np\r\n",
        "import time\r\n",
        "\r\n",
        "env = gym.make('FrozenLake-v0')\r\n",
        "STATES = env.observation_space.n\r\n",
        "ACTIONS = env.action_space.n\r\n",
        "\r\n",
        "Q = np.zeros((STATES, ACTIONS))\r\n",
        "\r\n",
        "EPISODES = 1500 # how many times to run the enviornment from the beginning\r\n",
        "MAX_STEPS = 100  # max number of steps allowed for each run of enviornment\r\n",
        "\r\n",
        "LEARNING_RATE = 0.81  # learning rate\r\n",
        "GAMMA = 0.96\r\n",
        "\r\n",
        "RENDER = False # if you want to see training set to true\r\n",
        "\r\n",
        "epsilon = 0.9"
      ],
      "execution_count": 28,
      "outputs": []
    },
    {
      "cell_type": "code",
      "metadata": {
        "colab": {
          "base_uri": "https://localhost:8080/"
        },
        "id": "JRyyOfzwSGUa",
        "outputId": "aead3a8e-d44a-4b38-f2e0-1eab2e11a64d"
      },
      "source": [
        "rewards = []\r\n",
        "for episode in range(EPISODES):\r\n",
        "\r\n",
        "  state = env.reset()\r\n",
        "  for _ in range(MAX_STEPS):\r\n",
        "    \r\n",
        "    if RENDER:\r\n",
        "      env.render()\r\n",
        "\r\n",
        "    if np.random.uniform(0, 1) < epsilon:\r\n",
        "      action = env.action_space.sample()  \r\n",
        "    else:\r\n",
        "      action = np.argmax(Q[state, :])\r\n",
        "\r\n",
        "    next_state, reward, done, _ = env.step(action)\r\n",
        "\r\n",
        "    Q[state, action] = Q[state, action] + LEARNING_RATE * (reward + GAMMA * np.max(Q[next_state, :]) - Q[state, action])\r\n",
        "\r\n",
        "    state = next_state\r\n",
        "\r\n",
        "    if done: \r\n",
        "      rewards.append(reward)\r\n",
        "      epsilon -= 0.001\r\n",
        "      break  # reached goal\r\n",
        "\r\n",
        "print(Q)\r\n",
        "print(f\"Average reward: {sum(rewards)/len(rewards)}:\")\r\n",
        "# and now we can see our Q values!"
      ],
      "execution_count": 29,
      "outputs": [
        {
          "output_type": "stream",
          "text": [
            "[[5.15951926e-01 5.98719730e-03 5.94890240e-03 5.93081059e-03]\n",
            " [1.50250706e-03 1.17084195e-03 4.43885691e-03 2.85512877e-01]\n",
            " [3.34120291e-03 2.97808340e-03 1.58427254e-03 3.04939851e-01]\n",
            " [2.37321053e-03 1.04930996e-03 1.58353043e-03 1.36901059e-01]\n",
            " [4.07002402e-01 2.16174607e-03 1.11395930e-03 2.17782854e-03]\n",
            " [0.00000000e+00 0.00000000e+00 0.00000000e+00 0.00000000e+00]\n",
            " [6.44891062e-03 1.29108012e-04 1.56373846e-04 1.03714576e-04]\n",
            " [0.00000000e+00 0.00000000e+00 0.00000000e+00 0.00000000e+00]\n",
            " [1.97594403e-03 3.54485214e-03 3.88190388e-03 5.10099887e-01]\n",
            " [8.50381016e-04 1.71654577e-01 3.16624402e-03 7.21550966e-04]\n",
            " [7.63826383e-01 8.36740294e-04 9.77075804e-04 6.21772240e-04]\n",
            " [0.00000000e+00 0.00000000e+00 0.00000000e+00 0.00000000e+00]\n",
            " [0.00000000e+00 0.00000000e+00 0.00000000e+00 0.00000000e+00]\n",
            " [1.53675319e-02 5.35780044e-02 8.20697652e-01 4.17324863e-03]\n",
            " [2.04663343e-01 9.92667775e-01 2.40664430e-01 2.42484072e-01]\n",
            " [0.00000000e+00 0.00000000e+00 0.00000000e+00 0.00000000e+00]]\n",
            "Average reward: 0.31266666666666665:\n"
          ],
          "name": "stdout"
        }
      ]
    },
    {
      "cell_type": "code",
      "metadata": {
        "colab": {
          "base_uri": "https://localhost:8080/",
          "height": 279
        },
        "id": "FspFt9YNSJqh",
        "outputId": "81b68060-6fb2-4338-d97b-41a5edde122b"
      },
      "source": [
        "# we can plot the training progress and see how the agent improved\r\n",
        "import matplotlib.pyplot as plt\r\n",
        "\r\n",
        "def get_average(values):\r\n",
        "  return sum(values)/len(values)\r\n",
        "\r\n",
        "avg_rewards = []\r\n",
        "for i in range(0, len(rewards), 100):\r\n",
        "  avg_rewards.append(get_average(rewards[i:i+100])) \r\n",
        "\r\n",
        "plt.plot(avg_rewards)\r\n",
        "plt.ylabel('average reward')\r\n",
        "plt.xlabel('episodes (100\\'s)')\r\n",
        "plt.show()"
      ],
      "execution_count": 30,
      "outputs": [
        {
          "output_type": "display_data",
          "data": {
            "image/png": "[encoded data removed]",
            "text/plain": [
              "<Figure size 432x288 with 1 Axes>"
            ]
          },
          "metadata": {
            "tags": [],
            "needs_background": "light"
          }
        }
      ]
    }
  ]
}